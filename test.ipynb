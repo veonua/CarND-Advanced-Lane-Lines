{
 "cells": [
  {
   "cell_type": "code",
   "execution_count": 5,
   "metadata": {
    "collapsed": false
   },
   "outputs": [
    {
     "name": "stdout",
     "output_type": "stream",
     "text": [
      "Populating the interactive namespace from numpy and matplotlib\n"
     ]
    },
    {
     "data": {
      "image/png": "[encoded data removed]",
      "text/plain": [
       "<matplotlib.figure.Figure at 0x7f4a0888e358>"
      ]
     },
     "metadata": {},
     "output_type": "display_data"
    }
   ],
   "source": [
    "%pylab inline\n",
    "pylab.rcParams['figure.figsize'] = (12, 8)\n",
    "\n",
    "import cv2\n",
    "import numpy as np\n",
    "import matplotlib.pyplot as plt\n",
    "import matplotlib.image as mpimg\n",
    "import pipeline as p\n",
    "import patches\n",
    "\n",
    "\n",
    "plt.interactive(True)\n",
    "\n",
    "img1 = mpimg.imread(\"./test_images/vid1/225.jpg\")\n",
    "img2 = mpimg.imread(\"./test_images/vid1/227.jpg\")\n",
    "    \n",
    "warped1, sure1 = p.get_birdView(p.undistort(img1))\n",
    "edges1 = p.get_lines(sure1)\n",
    "\n",
    "warped2, sure2 = p.get_birdView(p.undistort(img2))\n",
    "edges2 = p.get_lines(sure2)\n",
    "\n",
    "r1 = patches.rebin(edges1, (edges1.shape[0] // 4, edges1.shape[1] // 4))\n",
    "r2 = patches.rebin(edges2, (edges2.shape[0] // 4, edges2.shape[1] // 4))\n",
    "\n",
    "\n",
    "plt.imshow(r2.astype(float)-r1.astype(float))\n",
    "plt.show()\n",
    "\n",
    "#h1 = cv2.cvtColor(img1, cv2.COLOR_RGB2HSV)[:,:,2]\n",
    "#h2 = cv2.cvtColor(img2, cv2.COLOR_RGB2HSV)[:,:,2]\n",
    "\n",
    "#plt.imshow(h1-h2, cmap='gray')"
   ]
  },
  {
   "cell_type": "code",
   "execution_count": 9,
   "metadata": {
    "collapsed": false
   },
   "outputs": [],
   "source": [
    "u = p.undistort( mpimg.imread(\"./test_images/test1.jpg\"))\n",
    "\n",
    "mpimg.imsave(\"./examples/undistort_test1.jpg\", u)"
   ]
  },
  {
   "cell_type": "code",
   "execution_count": 19,
   "metadata": {
    "collapsed": false
   },
   "outputs": [],
   "source": [
    "u = p.undistort( mpimg.imread(\"./test_images/straight_lines1.jpg\"))\n",
    "    \n",
    "warped, sure = p.get_birdView(u)\n",
    "#edges1 = p.get_lines(sure1)\n",
    "\n",
    "u = cv2.addWeighted(warped, 1.0,  p.genereate_straight_lanes(warped), 1.0, 0) \n",
    "\n",
    "edges = p.get_lines(warped)\n",
    "\n",
    "mpimg.imsave(\"./examples/edges.png\", edges)"
   ]
  },
  {
   "cell_type": "code",
   "execution_count": null,
   "metadata": {
    "collapsed": true
   },
   "outputs": [],
   "source": []
  }
 ],
 "metadata": {
  "kernelspec": {
   "display_name": "Python 3",
   "language": "python",
   "name": "python3"
  },
  "language_info": {
   "codemirror_mode": {
    "name": "ipython",
    "version": 3
   },
   "file_extension": ".py",
   "mimetype": "text/x-python",
   "name": "python",
   "nbconvert_exporter": "python",
   "pygments_lexer": "ipython3",
   "version": "3.5.2"
  }
 },
 "nbformat": 4,
 "nbformat_minor": 0
}
